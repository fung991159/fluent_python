{
 "cells": [
  {
   "cell_type": "code",
   "execution_count": 1,
   "metadata": {},
   "outputs": [
    {
     "output_type": "stream",
     "name": "stdout",
     "text": [
      "{'a': 2, 'b': 3}\n"
     ]
    }
   ],
   "source": [
    "d = {'a': 1}\n",
    "d.update({'a': 2})\n",
    "d.update(b=3)\n",
    "print(d)"
   ]
  },
  {
   "cell_type": "code",
   "execution_count": 2,
   "metadata": {},
   "outputs": [
    {
     "output_type": "stream",
     "name": "stdout",
     "text": [
      "ChainMap({'ChainMap': <class 'collections.ChainMap'>,\n          'In': ['',\n                 \"d = {'a': 1}\\nd.update({'a': 2})\\nd.update(b=3)\\nprint(d)\",\n                 'import builtins\\n'\n                 'from collections import ChainMap\\n'\n                 'from pprint import pprint\\n'\n                 'pprint(ChainMap(locals()))#, globals()))#, vars(builtins)))'],\n          'Out': {},\n          '_': '',\n          '__': '',\n          '___': '',\n          '__builtin__': <module 'builtins' (built-in)>,\n          '__builtins__': <module 'builtins' (built-in)>,\n          '__doc__': 'Automatically created module for IPython interactive '\n                     'environment',\n          '__loader__': None,\n          '__name__': '__main__',\n          '__package__': None,\n          '__spec__': None,\n          '_dh': ['/home/fung/dev/project/learn/fluent_python/3.Dictionaries '\n                  'and Sets'],\n          '_i': \"d = {'a': 1}\\nd.update({'a': 2})\\nd.update(b=3)\\nprint(d)\",\n          '_i1': \"d = {'a': 1}\\nd.update({'a': 2})\\nd.update(b=3)\\nprint(d)\",\n          '_i2': 'import builtins\\n'\n                 'from collections import ChainMap\\n'\n                 'from pprint import pprint\\n'\n                 'pprint(ChainMap(locals()))#, globals()))#, vars(builtins)))',\n          '_ih': ['',\n                  \"d = {'a': 1}\\nd.update({'a': 2})\\nd.update(b=3)\\nprint(d)\",\n                  'import builtins\\n'\n                  'from collections import ChainMap\\n'\n                  'from pprint import pprint\\n'\n                  'pprint(ChainMap(locals()))#, globals()))#, '\n                  'vars(builtins)))'],\n          '_ii': '',\n          '_iii': '',\n          '_oh': {},\n          'builtins': <module 'builtins' (built-in)>,\n          'd': {'a': 2, 'b': 3},\n          'exit': <IPython.core.autocall.ZMQExitAutocall object at 0x7f203caca100>,\n          'get_ipython': <bound method InteractiveShell.get_ipython of <ipykernel.zmqshell.ZMQInteractiveShell object at 0x7f203ca1ae80>>,\n          'os': <module 'os' from '/usr/lib/python3.9/os.py'>,\n          'pprint': <function pprint at 0x7f20401aaca0>,\n          'quit': <IPython.core.autocall.ZMQExitAutocall object at 0x7f203caca100>,\n          'sys': <module 'sys' (built-in)>})\n"
     ]
    }
   ],
   "source": [
    "import builtins\n",
    "from collections import ChainMap\n",
    "from pprint import pprint\n",
    "pprint(ChainMap(locals()))#, globals()))#, vars(builtins)))"
   ]
  },
  {
   "cell_type": "code",
   "execution_count": 9,
   "metadata": {},
   "outputs": [
    {
     "output_type": "execute_result",
     "data": {
      "text/plain": [
       "{'a'}"
      ]
     },
     "metadata": {},
     "execution_count": 9
    }
   ],
   "source": [
    "d2 = {'c': 5, 'a': 123}\n",
    "d2.keys() & d.keys()"
   ]
  }
 ],
 "metadata": {
  "kernelspec": {
   "display_name": "Python 3.9.1 64-bit",
   "language": "python",
   "name": "python39164bitf52d9115992144e4a16214432b783eac"
  },
  "language_info": {
   "codemirror_mode": {
    "name": "ipython",
    "version": 3
   },
   "file_extension": ".py",
   "mimetype": "text/x-python",
   "name": "python",
   "nbconvert_exporter": "python",
   "pygments_lexer": "ipython3",
   "version": "3.9.2-final"
  }
 },
 "nbformat": 4,
 "nbformat_minor": 4
}